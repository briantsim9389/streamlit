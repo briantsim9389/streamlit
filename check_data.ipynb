{
 "cells": [
  {
   "cell_type": "code",
   "execution_count": 33,
   "metadata": {},
   "outputs": [],
   "source": [
    "import pandas as pd\n",
    "import numpy as np\n",
    "\n",
    "\n",
    "DATE_COLUMN = 'date/time'\n",
    "DATA_URL = ('https://s3-us-west-2.amazonaws.com/streamlit-demo-data/uber-raw-data-sep14.csv.gz')\n",
    "\n",
    "lowercase = lambda x: str(x).lower()\n",
    "\n",
    "\"\"\"\n",
    "data = pd.read_csv(DATA_URL, nrows=10000)\n",
    "data.rename(lowercase, axis='columns', inplace=True)\n",
    "data[DATE_COLUMN] = pd.to_datetime(data[DATE_COLUMN])\n",
    "st = data[DATE_COLUMN].dt.hour\n",
    "\"\"\"\n",
    "\n",
    "\n",
    "df = pd.read_excel('training_data.xlsx', engine='openpyxl')\n",
    "df.rename(lowercase, axis='columns', inplace=True)\n",
    "\n",
    "min = int(df['loanamt'].min())\n",
    "\n",
    "company_rows = df['company'].unique().tolist()\n",
    "for index,row in df.iterrows(): \n",
    "    df.at[index,'company'] = company_rows.index(row['company'])\n",
    "comp_values = np.histogram(df['company'], bins=len(company_rows), range=(0,len(company_rows)))[0]\n",
    "\n",
    "grah_df = pd.DataFrame(columns=[\"total\",\"company\"])\n",
    "for index,row in df.iterrows(): \n",
    "    name =company_rows[row[0]]\n",
    "    total = comp_values[row[0]]\n",
    "    grah_df.loc[len(grah_df.index)] = [total,name]\n",
    "\n",
    "grah_df = grah_df.drop_duplicates()\n",
    "\n"
   ]
  }
 ],
 "metadata": {
  "kernelspec": {
   "display_name": "Python 3.10.7 64-bit",
   "language": "python",
   "name": "python3"
  },
  "language_info": {
   "codemirror_mode": {
    "name": "ipython",
    "version": 3
   },
   "file_extension": ".py",
   "mimetype": "text/x-python",
   "name": "python",
   "nbconvert_exporter": "python",
   "pygments_lexer": "ipython3",
   "version": "3.10.7"
  },
  "orig_nbformat": 4,
  "vscode": {
   "interpreter": {
    "hash": "b0fa6594d8f4cbf19f97940f81e996739fb7646882a419484c72d19e05852a7e"
   }
  }
 },
 "nbformat": 4,
 "nbformat_minor": 2
}
